{
 "cells": [
  {
   "cell_type": "markdown",
   "id": "81c2f682",
   "metadata": {},
   "source": [
    "Since train dataset is too big for google colab where all the tests will be produced this script should get around 12.5 k images for each ship and no-ship class. Size after getting should be 27 /  190 * 25  ~=  4 gb"
   ]
  },
  {
   "cell_type": "code",
   "execution_count": 39,
   "id": "f96704f7",
   "metadata": {},
   "outputs": [],
   "source": [
    "import pandas # import pandas for reading dataset csv file\n",
    "import shutil # for copying data\n",
    "import os"
   ]
  },
  {
   "cell_type": "code",
   "execution_count": 40,
   "id": "426ec401",
   "metadata": {},
   "outputs": [],
   "source": [
    "# input paths\n",
    "image_folder = 'airbus-ship-detection/train_v2/'\n",
    "csv_file_path = 'airbus-ship-detection/train_ship_segmentations_v2.csv'"
   ]
  },
  {
   "cell_type": "code",
   "execution_count": 41,
   "id": "45fbee1f",
   "metadata": {},
   "outputs": [],
   "source": [
    "train_ship_segmantation = pandas.read_csv(csv_file_path)"
   ]
  },
  {
   "cell_type": "code",
   "execution_count": 47,
   "id": "248347f6",
   "metadata": {},
   "outputs": [
    {
     "data": {
      "text/html": [
       "<div>\n",
       "<style scoped>\n",
       "    .dataframe tbody tr th:only-of-type {\n",
       "        vertical-align: middle;\n",
       "    }\n",
       "\n",
       "    .dataframe tbody tr th {\n",
       "        vertical-align: top;\n",
       "    }\n",
       "\n",
       "    .dataframe thead th {\n",
       "        text-align: right;\n",
       "    }\n",
       "</style>\n",
       "<table border=\"1\" class=\"dataframe\">\n",
       "  <thead>\n",
       "    <tr style=\"text-align: right;\">\n",
       "      <th></th>\n",
       "      <th>ImageId</th>\n",
       "      <th>EncodedPixels</th>\n",
       "    </tr>\n",
       "  </thead>\n",
       "  <tbody>\n",
       "    <tr>\n",
       "      <th>0</th>\n",
       "      <td>00003e153.jpg</td>\n",
       "      <td>NaN</td>\n",
       "    </tr>\n",
       "    <tr>\n",
       "      <th>1</th>\n",
       "      <td>0001124c7.jpg</td>\n",
       "      <td>NaN</td>\n",
       "    </tr>\n",
       "    <tr>\n",
       "      <th>2</th>\n",
       "      <td>000155de5.jpg</td>\n",
       "      <td>264661 17 265429 33 266197 33 266965 33 267733...</td>\n",
       "    </tr>\n",
       "    <tr>\n",
       "      <th>3</th>\n",
       "      <td>000194a2d.jpg</td>\n",
       "      <td>360486 1 361252 4 362019 5 362785 8 363552 10 ...</td>\n",
       "    </tr>\n",
       "    <tr>\n",
       "      <th>4</th>\n",
       "      <td>000194a2d.jpg</td>\n",
       "      <td>51834 9 52602 9 53370 9 54138 9 54906 9 55674 ...</td>\n",
       "    </tr>\n",
       "    <tr>\n",
       "      <th>...</th>\n",
       "      <td>...</td>\n",
       "      <td>...</td>\n",
       "    </tr>\n",
       "    <tr>\n",
       "      <th>231718</th>\n",
       "      <td>fffedbb6b.jpg</td>\n",
       "      <td>NaN</td>\n",
       "    </tr>\n",
       "    <tr>\n",
       "      <th>231719</th>\n",
       "      <td>ffff2aa57.jpg</td>\n",
       "      <td>NaN</td>\n",
       "    </tr>\n",
       "    <tr>\n",
       "      <th>231720</th>\n",
       "      <td>ffff6e525.jpg</td>\n",
       "      <td>NaN</td>\n",
       "    </tr>\n",
       "    <tr>\n",
       "      <th>231721</th>\n",
       "      <td>ffffc50b4.jpg</td>\n",
       "      <td>NaN</td>\n",
       "    </tr>\n",
       "    <tr>\n",
       "      <th>231722</th>\n",
       "      <td>ffffe97f3.jpg</td>\n",
       "      <td>NaN</td>\n",
       "    </tr>\n",
       "  </tbody>\n",
       "</table>\n",
       "<p>231723 rows × 2 columns</p>\n",
       "</div>"
      ],
      "text/plain": [
       "              ImageId                                      EncodedPixels\n",
       "0       00003e153.jpg                                                NaN\n",
       "1       0001124c7.jpg                                                NaN\n",
       "2       000155de5.jpg  264661 17 265429 33 266197 33 266965 33 267733...\n",
       "3       000194a2d.jpg  360486 1 361252 4 362019 5 362785 8 363552 10 ...\n",
       "4       000194a2d.jpg  51834 9 52602 9 53370 9 54138 9 54906 9 55674 ...\n",
       "...               ...                                                ...\n",
       "231718  fffedbb6b.jpg                                                NaN\n",
       "231719  ffff2aa57.jpg                                                NaN\n",
       "231720  ffff6e525.jpg                                                NaN\n",
       "231721  ffffc50b4.jpg                                                NaN\n",
       "231722  ffffe97f3.jpg                                                NaN\n",
       "\n",
       "[231723 rows x 2 columns]"
      ]
     },
     "execution_count": 47,
     "metadata": {},
     "output_type": "execute_result"
    }
   ],
   "source": [
    "train_ship_segmantation"
   ]
  },
  {
   "cell_type": "code",
   "execution_count": 50,
   "id": "20ed7d2d",
   "metadata": {},
   "outputs": [],
   "source": [
    "train_ship_segmantation = train_ship_segmantation.drop_duplicates('ImageId')"
   ]
  },
  {
   "cell_type": "code",
   "execution_count": 52,
   "id": "de8380be",
   "metadata": {},
   "outputs": [],
   "source": [
    "# output paths\n",
    "output_image_folder = 'train_images/'\n",
    "output_csv_file_path = 'train_file.csv'"
   ]
  },
  {
   "cell_type": "code",
   "execution_count": 53,
   "id": "9960384d",
   "metadata": {},
   "outputs": [],
   "source": [
    "# CREATE DIR IF DOESNT EXISTS\n",
    "if not os.path.isdir(output_image_folder):\n",
    "    os.mkdir(output_image_folder)"
   ]
  },
  {
   "cell_type": "code",
   "execution_count": 54,
   "id": "9aba6d08",
   "metadata": {},
   "outputs": [],
   "source": [
    "ship_df = train_ship_segmantation[train_ship_segmantation['EncodedPixels'].notnull()][:12500]\n",
    "no_ship_df = train_ship_segmantation[train_ship_segmantation['EncodedPixels'].isnull()][:12500]\n",
    "\n",
    "combined = pandas.concat([ship_df, no_ship_df])"
   ]
  },
  {
   "cell_type": "code",
   "execution_count": 55,
   "id": "e4421d5d",
   "metadata": {},
   "outputs": [
    {
     "data": {
      "text/html": [
       "<div>\n",
       "<style scoped>\n",
       "    .dataframe tbody tr th:only-of-type {\n",
       "        vertical-align: middle;\n",
       "    }\n",
       "\n",
       "    .dataframe tbody tr th {\n",
       "        vertical-align: top;\n",
       "    }\n",
       "\n",
       "    .dataframe thead th {\n",
       "        text-align: right;\n",
       "    }\n",
       "</style>\n",
       "<table border=\"1\" class=\"dataframe\">\n",
       "  <thead>\n",
       "    <tr style=\"text-align: right;\">\n",
       "      <th></th>\n",
       "      <th>ImageId</th>\n",
       "      <th>EncodedPixels</th>\n",
       "    </tr>\n",
       "  </thead>\n",
       "  <tbody>\n",
       "    <tr>\n",
       "      <th>2</th>\n",
       "      <td>000155de5.jpg</td>\n",
       "      <td>264661 17 265429 33 266197 33 266965 33 267733...</td>\n",
       "    </tr>\n",
       "    <tr>\n",
       "      <th>3</th>\n",
       "      <td>000194a2d.jpg</td>\n",
       "      <td>360486 1 361252 4 362019 5 362785 8 363552 10 ...</td>\n",
       "    </tr>\n",
       "    <tr>\n",
       "      <th>9</th>\n",
       "      <td>00021ddc3.jpg</td>\n",
       "      <td>108287 1 109054 3 109821 4 110588 5 111356 5 1...</td>\n",
       "    </tr>\n",
       "    <tr>\n",
       "      <th>18</th>\n",
       "      <td>0002756f7.jpg</td>\n",
       "      <td>255784 2 256552 4 257319 7 258087 9 258854 12 ...</td>\n",
       "    </tr>\n",
       "    <tr>\n",
       "      <th>22</th>\n",
       "      <td>00031f145.jpg</td>\n",
       "      <td>340363 1 341129 4 341896 6 342663 7 343429 10 ...</td>\n",
       "    </tr>\n",
       "    <tr>\n",
       "      <th>...</th>\n",
       "      <td>...</td>\n",
       "      <td>...</td>\n",
       "    </tr>\n",
       "    <tr>\n",
       "      <th>19267</th>\n",
       "      <td>155009de8.jpg</td>\n",
       "      <td>NaN</td>\n",
       "    </tr>\n",
       "    <tr>\n",
       "      <th>19275</th>\n",
       "      <td>155274349.jpg</td>\n",
       "      <td>NaN</td>\n",
       "    </tr>\n",
       "    <tr>\n",
       "      <th>19276</th>\n",
       "      <td>155280ceb.jpg</td>\n",
       "      <td>NaN</td>\n",
       "    </tr>\n",
       "    <tr>\n",
       "      <th>19278</th>\n",
       "      <td>1552d9845.jpg</td>\n",
       "      <td>NaN</td>\n",
       "    </tr>\n",
       "    <tr>\n",
       "      <th>19279</th>\n",
       "      <td>1552ede9f.jpg</td>\n",
       "      <td>NaN</td>\n",
       "    </tr>\n",
       "  </tbody>\n",
       "</table>\n",
       "<p>25000 rows × 2 columns</p>\n",
       "</div>"
      ],
      "text/plain": [
       "             ImageId                                      EncodedPixels\n",
       "2      000155de5.jpg  264661 17 265429 33 266197 33 266965 33 267733...\n",
       "3      000194a2d.jpg  360486 1 361252 4 362019 5 362785 8 363552 10 ...\n",
       "9      00021ddc3.jpg  108287 1 109054 3 109821 4 110588 5 111356 5 1...\n",
       "18     0002756f7.jpg  255784 2 256552 4 257319 7 258087 9 258854 12 ...\n",
       "22     00031f145.jpg  340363 1 341129 4 341896 6 342663 7 343429 10 ...\n",
       "...              ...                                                ...\n",
       "19267  155009de8.jpg                                                NaN\n",
       "19275  155274349.jpg                                                NaN\n",
       "19276  155280ceb.jpg                                                NaN\n",
       "19278  1552d9845.jpg                                                NaN\n",
       "19279  1552ede9f.jpg                                                NaN\n",
       "\n",
       "[25000 rows x 2 columns]"
      ]
     },
     "execution_count": 55,
     "metadata": {},
     "output_type": "execute_result"
    }
   ],
   "source": [
    "combined"
   ]
  },
  {
   "cell_type": "code",
   "execution_count": 56,
   "id": "60c22a0d",
   "metadata": {},
   "outputs": [
    {
     "data": {
      "text/plain": [
       "25000"
      ]
     },
     "execution_count": 56,
     "metadata": {},
     "output_type": "execute_result"
    }
   ],
   "source": [
    "len(pandas.unique(combined['ImageId']))"
   ]
  },
  {
   "cell_type": "code",
   "execution_count": 57,
   "id": "ce49f336",
   "metadata": {},
   "outputs": [],
   "source": [
    "for _, row in combined.iterrows():\n",
    "    shutil.copy2(image_folder + row['ImageId'], output_image_folder + row['ImageId'])"
   ]
  },
  {
   "cell_type": "code",
   "execution_count": 58,
   "id": "f5f7874d",
   "metadata": {},
   "outputs": [
    {
     "data": {
      "text/plain": [
       "25000"
      ]
     },
     "execution_count": 58,
     "metadata": {},
     "output_type": "execute_result"
    }
   ],
   "source": [
    "# number of files\n",
    "len([name for name in os.listdir(output_image_folder)])"
   ]
  },
  {
   "cell_type": "code",
   "execution_count": 59,
   "id": "2e3d3078",
   "metadata": {},
   "outputs": [],
   "source": [
    "train_ship_segmantation = pandas.read_csv(csv_file_path)"
   ]
  },
  {
   "cell_type": "code",
   "execution_count": 74,
   "id": "877a70ed",
   "metadata": {},
   "outputs": [
    {
     "data": {
      "text/html": [
       "<div>\n",
       "<style scoped>\n",
       "    .dataframe tbody tr th:only-of-type {\n",
       "        vertical-align: middle;\n",
       "    }\n",
       "\n",
       "    .dataframe tbody tr th {\n",
       "        vertical-align: top;\n",
       "    }\n",
       "\n",
       "    .dataframe thead th {\n",
       "        text-align: right;\n",
       "    }\n",
       "</style>\n",
       "<table border=\"1\" class=\"dataframe\">\n",
       "  <thead>\n",
       "    <tr style=\"text-align: right;\">\n",
       "      <th></th>\n",
       "      <th>ImageId</th>\n",
       "      <th>EncodedPixels</th>\n",
       "    </tr>\n",
       "  </thead>\n",
       "  <tbody>\n",
       "    <tr>\n",
       "      <th>2</th>\n",
       "      <td>000155de5.jpg</td>\n",
       "      <td>264661 17 265429 33 266197 33 266965 33 267733...</td>\n",
       "    </tr>\n",
       "    <tr>\n",
       "      <th>3</th>\n",
       "      <td>000194a2d.jpg</td>\n",
       "      <td>360486 1 361252 4 362019 5 362785 8 363552 10 ...</td>\n",
       "    </tr>\n",
       "    <tr>\n",
       "      <th>9</th>\n",
       "      <td>00021ddc3.jpg</td>\n",
       "      <td>108287 1 109054 3 109821 4 110588 5 111356 5 1...</td>\n",
       "    </tr>\n",
       "    <tr>\n",
       "      <th>18</th>\n",
       "      <td>0002756f7.jpg</td>\n",
       "      <td>255784 2 256552 4 257319 7 258087 9 258854 12 ...</td>\n",
       "    </tr>\n",
       "    <tr>\n",
       "      <th>22</th>\n",
       "      <td>00031f145.jpg</td>\n",
       "      <td>340363 1 341129 4 341896 6 342663 7 343429 10 ...</td>\n",
       "    </tr>\n",
       "    <tr>\n",
       "      <th>...</th>\n",
       "      <td>...</td>\n",
       "      <td>...</td>\n",
       "    </tr>\n",
       "    <tr>\n",
       "      <th>68012</th>\n",
       "      <td>4b53ed7ff.jpg</td>\n",
       "      <td>98845 1 99612 3 100378 6 101145 7 101912 9 102...</td>\n",
       "    </tr>\n",
       "    <tr>\n",
       "      <th>68020</th>\n",
       "      <td>4b56ae3c1.jpg</td>\n",
       "      <td>523827 5 524595 13 525363 21 526131 29 526899 ...</td>\n",
       "    </tr>\n",
       "    <tr>\n",
       "      <th>68050</th>\n",
       "      <td>4b600dac1.jpg</td>\n",
       "      <td>155407 9 156175 17 156943 17 157711 17 158479 ...</td>\n",
       "    </tr>\n",
       "    <tr>\n",
       "      <th>68056</th>\n",
       "      <td>4b622a74c.jpg</td>\n",
       "      <td>452658 2 453426 4 454193 7 454961 8 455728 9 4...</td>\n",
       "    </tr>\n",
       "    <tr>\n",
       "      <th>68079</th>\n",
       "      <td>4b68667c8.jpg</td>\n",
       "      <td>165105 5 165864 14 166623 23 167381 33 168140 ...</td>\n",
       "    </tr>\n",
       "  </tbody>\n",
       "</table>\n",
       "<p>36495 rows × 2 columns</p>\n",
       "</div>"
      ],
      "text/plain": [
       "             ImageId                                      EncodedPixels\n",
       "2      000155de5.jpg  264661 17 265429 33 266197 33 266965 33 267733...\n",
       "3      000194a2d.jpg  360486 1 361252 4 362019 5 362785 8 363552 10 ...\n",
       "9      00021ddc3.jpg  108287 1 109054 3 109821 4 110588 5 111356 5 1...\n",
       "18     0002756f7.jpg  255784 2 256552 4 257319 7 258087 9 258854 12 ...\n",
       "22     00031f145.jpg  340363 1 341129 4 341896 6 342663 7 343429 10 ...\n",
       "...              ...                                                ...\n",
       "68012  4b53ed7ff.jpg  98845 1 99612 3 100378 6 101145 7 101912 9 102...\n",
       "68020  4b56ae3c1.jpg  523827 5 524595 13 525363 21 526131 29 526899 ...\n",
       "68050  4b600dac1.jpg  155407 9 156175 17 156943 17 157711 17 158479 ...\n",
       "68056  4b622a74c.jpg  452658 2 453426 4 454193 7 454961 8 455728 9 4...\n",
       "68079  4b68667c8.jpg  165105 5 165864 14 166623 23 167381 33 168140 ...\n",
       "\n",
       "[36495 rows x 2 columns]"
      ]
     },
     "execution_count": 74,
     "metadata": {},
     "output_type": "execute_result"
    }
   ],
   "source": [
    "# now creating dataset\n",
    "combined_copy = combined.copy(True)\n",
    "\n",
    "for _, row in combined.iterrows():\n",
    "    if row['EncodedPixels'] is not None:\n",
    "        combined_copy = pandas.concat([combined_copy, train_ship_segmantation[train_ship_segmantation['ImageId'] == row['ImageId']]])\n",
    "combined_copy = combined_copy.drop_duplicates()"
   ]
  },
  {
   "cell_type": "code",
   "execution_count": 77,
   "id": "bf24de94",
   "metadata": {},
   "outputs": [
    {
     "data": {
      "text/html": [
       "<div>\n",
       "<style scoped>\n",
       "    .dataframe tbody tr th:only-of-type {\n",
       "        vertical-align: middle;\n",
       "    }\n",
       "\n",
       "    .dataframe tbody tr th {\n",
       "        vertical-align: top;\n",
       "    }\n",
       "\n",
       "    .dataframe thead th {\n",
       "        text-align: right;\n",
       "    }\n",
       "</style>\n",
       "<table border=\"1\" class=\"dataframe\">\n",
       "  <thead>\n",
       "    <tr style=\"text-align: right;\">\n",
       "      <th></th>\n",
       "      <th>ImageId</th>\n",
       "      <th>EncodedPixels</th>\n",
       "    </tr>\n",
       "  </thead>\n",
       "  <tbody>\n",
       "    <tr>\n",
       "      <th>2</th>\n",
       "      <td>000155de5.jpg</td>\n",
       "      <td>264661 17 265429 33 266197 33 266965 33 267733...</td>\n",
       "    </tr>\n",
       "    <tr>\n",
       "      <th>3</th>\n",
       "      <td>000194a2d.jpg</td>\n",
       "      <td>360486 1 361252 4 362019 5 362785 8 363552 10 ...</td>\n",
       "    </tr>\n",
       "    <tr>\n",
       "      <th>9</th>\n",
       "      <td>00021ddc3.jpg</td>\n",
       "      <td>108287 1 109054 3 109821 4 110588 5 111356 5 1...</td>\n",
       "    </tr>\n",
       "    <tr>\n",
       "      <th>18</th>\n",
       "      <td>0002756f7.jpg</td>\n",
       "      <td>255784 2 256552 4 257319 7 258087 9 258854 12 ...</td>\n",
       "    </tr>\n",
       "    <tr>\n",
       "      <th>22</th>\n",
       "      <td>00031f145.jpg</td>\n",
       "      <td>340363 1 341129 4 341896 6 342663 7 343429 10 ...</td>\n",
       "    </tr>\n",
       "    <tr>\n",
       "      <th>...</th>\n",
       "      <td>...</td>\n",
       "      <td>...</td>\n",
       "    </tr>\n",
       "    <tr>\n",
       "      <th>68012</th>\n",
       "      <td>4b53ed7ff.jpg</td>\n",
       "      <td>98845 1 99612 3 100378 6 101145 7 101912 9 102...</td>\n",
       "    </tr>\n",
       "    <tr>\n",
       "      <th>68020</th>\n",
       "      <td>4b56ae3c1.jpg</td>\n",
       "      <td>523827 5 524595 13 525363 21 526131 29 526899 ...</td>\n",
       "    </tr>\n",
       "    <tr>\n",
       "      <th>68050</th>\n",
       "      <td>4b600dac1.jpg</td>\n",
       "      <td>155407 9 156175 17 156943 17 157711 17 158479 ...</td>\n",
       "    </tr>\n",
       "    <tr>\n",
       "      <th>68056</th>\n",
       "      <td>4b622a74c.jpg</td>\n",
       "      <td>452658 2 453426 4 454193 7 454961 8 455728 9 4...</td>\n",
       "    </tr>\n",
       "    <tr>\n",
       "      <th>68079</th>\n",
       "      <td>4b68667c8.jpg</td>\n",
       "      <td>165105 5 165864 14 166623 23 167381 33 168140 ...</td>\n",
       "    </tr>\n",
       "  </tbody>\n",
       "</table>\n",
       "<p>36495 rows × 2 columns</p>\n",
       "</div>"
      ],
      "text/plain": [
       "             ImageId                                      EncodedPixels\n",
       "2      000155de5.jpg  264661 17 265429 33 266197 33 266965 33 267733...\n",
       "3      000194a2d.jpg  360486 1 361252 4 362019 5 362785 8 363552 10 ...\n",
       "9      00021ddc3.jpg  108287 1 109054 3 109821 4 110588 5 111356 5 1...\n",
       "18     0002756f7.jpg  255784 2 256552 4 257319 7 258087 9 258854 12 ...\n",
       "22     00031f145.jpg  340363 1 341129 4 341896 6 342663 7 343429 10 ...\n",
       "...              ...                                                ...\n",
       "68012  4b53ed7ff.jpg  98845 1 99612 3 100378 6 101145 7 101912 9 102...\n",
       "68020  4b56ae3c1.jpg  523827 5 524595 13 525363 21 526131 29 526899 ...\n",
       "68050  4b600dac1.jpg  155407 9 156175 17 156943 17 157711 17 158479 ...\n",
       "68056  4b622a74c.jpg  452658 2 453426 4 454193 7 454961 8 455728 9 4...\n",
       "68079  4b68667c8.jpg  165105 5 165864 14 166623 23 167381 33 168140 ...\n",
       "\n",
       "[36495 rows x 2 columns]"
      ]
     },
     "execution_count": 77,
     "metadata": {},
     "output_type": "execute_result"
    }
   ],
   "source": [
    "combined_copy"
   ]
  },
  {
   "cell_type": "code",
   "execution_count": 78,
   "id": "65c79f57",
   "metadata": {},
   "outputs": [],
   "source": [
    "combined_copy.to_csv(output_csv_file_path)"
   ]
  },
  {
   "cell_type": "code",
   "execution_count": null,
   "id": "204bba36",
   "metadata": {},
   "outputs": [],
   "source": []
  }
 ],
 "metadata": {
  "kernelspec": {
   "display_name": "Python 3 (ipykernel)",
   "language": "python",
   "name": "python3"
  },
  "language_info": {
   "codemirror_mode": {
    "name": "ipython",
    "version": 3
   },
   "file_extension": ".py",
   "mimetype": "text/x-python",
   "name": "python",
   "nbconvert_exporter": "python",
   "pygments_lexer": "ipython3",
   "version": "3.11.2"
  }
 },
 "nbformat": 4,
 "nbformat_minor": 5
}
